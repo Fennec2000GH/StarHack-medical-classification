{
 "cells": [
  {
   "cell_type": "code",
   "execution_count": 1,
   "id": "01c30018",
   "metadata": {
    "execution": {
     "iopub.execute_input": "2021-09-26T06:43:43.723842Z",
     "iopub.status.busy": "2021-09-26T06:43:43.722709Z",
     "iopub.status.idle": "2021-09-26T06:43:43.732419Z",
     "shell.execute_reply": "2021-09-26T06:43:43.732959Z",
     "shell.execute_reply.started": "2021-09-26T06:12:48.671455Z"
    },
    "id": "6l-NrN43GY35",
    "papermill": {
     "duration": 0.028583,
     "end_time": "2021-09-26T06:43:43.733273",
     "exception": false,
     "start_time": "2021-09-26T06:43:43.704690",
     "status": "completed"
    },
    "tags": []
   },
   "outputs": [],
   "source": [
    "import numpy as np\n",
    "import pandas as pd"
   ]
  },
  {
   "cell_type": "code",
   "execution_count": 2,
   "id": "b03fa6d2",
   "metadata": {
    "execution": {
     "iopub.execute_input": "2021-09-26T06:43:43.762580Z",
     "iopub.status.busy": "2021-09-26T06:43:43.761968Z",
     "iopub.status.idle": "2021-09-26T06:43:44.205900Z",
     "shell.execute_reply": "2021-09-26T06:43:44.205281Z",
     "shell.execute_reply.started": "2021-09-26T06:21:43.486275Z"
    },
    "id": "-UM9u1EoHtK3",
    "papermill": {
     "duration": 0.4595,
     "end_time": "2021-09-26T06:43:44.206053",
     "exception": false,
     "start_time": "2021-09-26T06:43:43.746553",
     "status": "completed"
    },
    "tags": []
   },
   "outputs": [],
   "source": [
    "df = pd.read_csv(filepath_or_buffer='../input/ibm-data/mtsamples.csv')"
   ]
  },
  {
   "cell_type": "code",
   "execution_count": 3,
   "id": "75f793e8",
   "metadata": {
    "execution": {
     "iopub.execute_input": "2021-09-26T06:43:44.244218Z",
     "iopub.status.busy": "2021-09-26T06:43:44.243603Z",
     "iopub.status.idle": "2021-09-26T06:43:44.265103Z",
     "shell.execute_reply": "2021-09-26T06:43:44.265604Z",
     "shell.execute_reply.started": "2021-09-26T06:21:43.683605Z"
    },
    "id": "RS0VOT4QHtNk",
    "outputId": "265687c9-9274-4c52-d12a-d5f204a08587",
    "papermill": {
     "duration": 0.046448,
     "end_time": "2021-09-26T06:43:44.265794",
     "exception": false,
     "start_time": "2021-09-26T06:43:44.219346",
     "status": "completed"
    },
    "tags": []
   },
   "outputs": [
    {
     "data": {
      "text/html": [
       "<div>\n",
       "<style scoped>\n",
       "    .dataframe tbody tr th:only-of-type {\n",
       "        vertical-align: middle;\n",
       "    }\n",
       "\n",
       "    .dataframe tbody tr th {\n",
       "        vertical-align: top;\n",
       "    }\n",
       "\n",
       "    .dataframe thead th {\n",
       "        text-align: right;\n",
       "    }\n",
       "</style>\n",
       "<table border=\"1\" class=\"dataframe\">\n",
       "  <thead>\n",
       "    <tr style=\"text-align: right;\">\n",
       "      <th></th>\n",
       "      <th>description</th>\n",
       "      <th>medical_specialty</th>\n",
       "      <th>sample_name</th>\n",
       "      <th>transcription</th>\n",
       "      <th>keywords</th>\n",
       "    </tr>\n",
       "  </thead>\n",
       "  <tbody>\n",
       "    <tr>\n",
       "      <th>0</th>\n",
       "      <td>A 23-year-old white female presents with comp...</td>\n",
       "      <td>Allergy / Immunology</td>\n",
       "      <td>Allergic Rhinitis</td>\n",
       "      <td>SUBJECTIVE:,  This 23-year-old white female pr...</td>\n",
       "      <td>allergy / immunology, allergic rhinitis, aller...</td>\n",
       "    </tr>\n",
       "    <tr>\n",
       "      <th>1</th>\n",
       "      <td>Consult for laparoscopic gastric bypass.</td>\n",
       "      <td>Bariatrics</td>\n",
       "      <td>Laparoscopic Gastric Bypass Consult - 2</td>\n",
       "      <td>PAST MEDICAL HISTORY:, He has difficulty climb...</td>\n",
       "      <td>bariatrics, laparoscopic gastric bypass, weigh...</td>\n",
       "    </tr>\n",
       "    <tr>\n",
       "      <th>2</th>\n",
       "      <td>Consult for laparoscopic gastric bypass.</td>\n",
       "      <td>Bariatrics</td>\n",
       "      <td>Laparoscopic Gastric Bypass Consult - 1</td>\n",
       "      <td>HISTORY OF PRESENT ILLNESS: , I have seen ABC ...</td>\n",
       "      <td>bariatrics, laparoscopic gastric bypass, heart...</td>\n",
       "    </tr>\n",
       "    <tr>\n",
       "      <th>3</th>\n",
       "      <td>2-D M-Mode. Doppler.</td>\n",
       "      <td>Cardiovascular / Pulmonary</td>\n",
       "      <td>2-D Echocardiogram - 1</td>\n",
       "      <td>2-D M-MODE: , ,1.  Left atrial enlargement wit...</td>\n",
       "      <td>cardiovascular / pulmonary, 2-d m-mode, dopple...</td>\n",
       "    </tr>\n",
       "    <tr>\n",
       "      <th>4</th>\n",
       "      <td>2-D Echocardiogram</td>\n",
       "      <td>Cardiovascular / Pulmonary</td>\n",
       "      <td>2-D Echocardiogram - 2</td>\n",
       "      <td>1.  The left ventricular cavity size and wall ...</td>\n",
       "      <td>cardiovascular / pulmonary, 2-d, doppler, echo...</td>\n",
       "    </tr>\n",
       "    <tr>\n",
       "      <th>...</th>\n",
       "      <td>...</td>\n",
       "      <td>...</td>\n",
       "      <td>...</td>\n",
       "      <td>...</td>\n",
       "      <td>...</td>\n",
       "    </tr>\n",
       "    <tr>\n",
       "      <th>4994</th>\n",
       "      <td>Patient having severe sinusitis about two to ...</td>\n",
       "      <td>Allergy / Immunology</td>\n",
       "      <td>Chronic Sinusitis</td>\n",
       "      <td>HISTORY:,  I had the pleasure of meeting and e...</td>\n",
       "      <td>NaN</td>\n",
       "    </tr>\n",
       "    <tr>\n",
       "      <th>4995</th>\n",
       "      <td>This is a 14-month-old baby boy Caucasian who...</td>\n",
       "      <td>Allergy / Immunology</td>\n",
       "      <td>Kawasaki Disease - Discharge Summary</td>\n",
       "      <td>ADMITTING DIAGNOSIS: , Kawasaki disease.,DISCH...</td>\n",
       "      <td>allergy / immunology, mucous membranes, conjun...</td>\n",
       "    </tr>\n",
       "    <tr>\n",
       "      <th>4996</th>\n",
       "      <td>A female for a complete physical and follow u...</td>\n",
       "      <td>Allergy / Immunology</td>\n",
       "      <td>Followup on Asthma</td>\n",
       "      <td>SUBJECTIVE: , This is a 42-year-old white fema...</td>\n",
       "      <td>NaN</td>\n",
       "    </tr>\n",
       "    <tr>\n",
       "      <th>4997</th>\n",
       "      <td>Mother states he has been wheezing and coughing.</td>\n",
       "      <td>Allergy / Immunology</td>\n",
       "      <td>Asthma in a 5-year-old</td>\n",
       "      <td>CHIEF COMPLAINT: , This 5-year-old male presen...</td>\n",
       "      <td>NaN</td>\n",
       "    </tr>\n",
       "    <tr>\n",
       "      <th>4998</th>\n",
       "      <td>Acute allergic reaction, etiology uncertain, ...</td>\n",
       "      <td>Allergy / Immunology</td>\n",
       "      <td>Allergy Evaluation Consult</td>\n",
       "      <td>HISTORY: , A 34-year-old male presents today s...</td>\n",
       "      <td>NaN</td>\n",
       "    </tr>\n",
       "  </tbody>\n",
       "</table>\n",
       "<p>4999 rows × 5 columns</p>\n",
       "</div>"
      ],
      "text/plain": [
       "                                            description  \\\n",
       "0      A 23-year-old white female presents with comp...   \n",
       "1              Consult for laparoscopic gastric bypass.   \n",
       "2              Consult for laparoscopic gastric bypass.   \n",
       "3                                2-D M-Mode. Doppler.     \n",
       "4                                    2-D Echocardiogram   \n",
       "...                                                 ...   \n",
       "4994   Patient having severe sinusitis about two to ...   \n",
       "4995   This is a 14-month-old baby boy Caucasian who...   \n",
       "4996   A female for a complete physical and follow u...   \n",
       "4997   Mother states he has been wheezing and coughing.   \n",
       "4998   Acute allergic reaction, etiology uncertain, ...   \n",
       "\n",
       "                medical_specialty                                sample_name  \\\n",
       "0            Allergy / Immunology                         Allergic Rhinitis    \n",
       "1                      Bariatrics   Laparoscopic Gastric Bypass Consult - 2    \n",
       "2                      Bariatrics   Laparoscopic Gastric Bypass Consult - 1    \n",
       "3      Cardiovascular / Pulmonary                    2-D Echocardiogram - 1    \n",
       "4      Cardiovascular / Pulmonary                    2-D Echocardiogram - 2    \n",
       "...                           ...                                        ...   \n",
       "4994         Allergy / Immunology                         Chronic Sinusitis    \n",
       "4995         Allergy / Immunology      Kawasaki Disease - Discharge Summary    \n",
       "4996         Allergy / Immunology                        Followup on Asthma    \n",
       "4997         Allergy / Immunology                    Asthma in a 5-year-old    \n",
       "4998         Allergy / Immunology                Allergy Evaluation Consult    \n",
       "\n",
       "                                          transcription  \\\n",
       "0     SUBJECTIVE:,  This 23-year-old white female pr...   \n",
       "1     PAST MEDICAL HISTORY:, He has difficulty climb...   \n",
       "2     HISTORY OF PRESENT ILLNESS: , I have seen ABC ...   \n",
       "3     2-D M-MODE: , ,1.  Left atrial enlargement wit...   \n",
       "4     1.  The left ventricular cavity size and wall ...   \n",
       "...                                                 ...   \n",
       "4994  HISTORY:,  I had the pleasure of meeting and e...   \n",
       "4995  ADMITTING DIAGNOSIS: , Kawasaki disease.,DISCH...   \n",
       "4996  SUBJECTIVE: , This is a 42-year-old white fema...   \n",
       "4997  CHIEF COMPLAINT: , This 5-year-old male presen...   \n",
       "4998  HISTORY: , A 34-year-old male presents today s...   \n",
       "\n",
       "                                               keywords  \n",
       "0     allergy / immunology, allergic rhinitis, aller...  \n",
       "1     bariatrics, laparoscopic gastric bypass, weigh...  \n",
       "2     bariatrics, laparoscopic gastric bypass, heart...  \n",
       "3     cardiovascular / pulmonary, 2-d m-mode, dopple...  \n",
       "4     cardiovascular / pulmonary, 2-d, doppler, echo...  \n",
       "...                                                 ...  \n",
       "4994                                                NaN  \n",
       "4995  allergy / immunology, mucous membranes, conjun...  \n",
       "4996                                                NaN  \n",
       "4997                                                NaN  \n",
       "4998                                                NaN  \n",
       "\n",
       "[4999 rows x 5 columns]"
      ]
     },
     "execution_count": 3,
     "metadata": {},
     "output_type": "execute_result"
    }
   ],
   "source": [
    "df.drop('Unnamed: 0', axis=1, inplace=True)\n",
    "df"
   ]
  },
  {
   "cell_type": "code",
   "execution_count": 4,
   "id": "8abbdd6e",
   "metadata": {
    "execution": {
     "iopub.execute_input": "2021-09-26T06:43:44.313858Z",
     "iopub.status.busy": "2021-09-26T06:43:44.313158Z",
     "iopub.status.idle": "2021-09-26T06:43:44.316976Z",
     "shell.execute_reply": "2021-09-26T06:43:44.316474Z",
     "shell.execute_reply.started": "2021-09-26T06:25:11.295990Z"
    },
    "papermill": {
     "duration": 0.037173,
     "end_time": "2021-09-26T06:43:44.317121",
     "exception": false,
     "start_time": "2021-09-26T06:43:44.279948",
     "status": "completed"
    },
    "tags": []
   },
   "outputs": [
    {
     "name": "stdout",
     "output_type": "stream",
     "text": [
      "<class 'pandas.core.frame.DataFrame'>\n",
      "RangeIndex: 4999 entries, 0 to 4998\n",
      "Data columns (total 5 columns):\n",
      " #   Column             Non-Null Count  Dtype \n",
      "---  ------             --------------  ----- \n",
      " 0   description        4999 non-null   object\n",
      " 1   medical_specialty  4999 non-null   object\n",
      " 2   sample_name        4999 non-null   object\n",
      " 3   transcription      4966 non-null   object\n",
      " 4   keywords           3931 non-null   object\n",
      "dtypes: object(5)\n",
      "memory usage: 195.4+ KB\n"
     ]
    }
   ],
   "source": [
    "df.info()"
   ]
  },
  {
   "cell_type": "code",
   "execution_count": 5,
   "id": "a477cb61",
   "metadata": {
    "execution": {
     "iopub.execute_input": "2021-09-26T06:43:44.349730Z",
     "iopub.status.busy": "2021-09-26T06:43:44.349059Z",
     "iopub.status.idle": "2021-09-26T06:43:44.365596Z",
     "shell.execute_reply": "2021-09-26T06:43:44.366093Z",
     "shell.execute_reply.started": "2021-09-26T06:27:08.243416Z"
    },
    "papermill": {
     "duration": 0.034953,
     "end_time": "2021-09-26T06:43:44.366277",
     "exception": false,
     "start_time": "2021-09-26T06:43:44.331324",
     "status": "completed"
    },
    "tags": []
   },
   "outputs": [
    {
     "data": {
      "text/html": [
       "<div>\n",
       "<style scoped>\n",
       "    .dataframe tbody tr th:only-of-type {\n",
       "        vertical-align: middle;\n",
       "    }\n",
       "\n",
       "    .dataframe tbody tr th {\n",
       "        vertical-align: top;\n",
       "    }\n",
       "\n",
       "    .dataframe thead th {\n",
       "        text-align: right;\n",
       "    }\n",
       "</style>\n",
       "<table border=\"1\" class=\"dataframe\">\n",
       "  <thead>\n",
       "    <tr style=\"text-align: right;\">\n",
       "      <th></th>\n",
       "      <th>description</th>\n",
       "      <th>medical_specialty</th>\n",
       "      <th>sample_name</th>\n",
       "      <th>transcription</th>\n",
       "      <th>keywords</th>\n",
       "    </tr>\n",
       "  </thead>\n",
       "  <tbody>\n",
       "    <tr>\n",
       "      <th>0</th>\n",
       "      <td>A 23-year-old white female presents with comp...</td>\n",
       "      <td>Allergy / Immunology</td>\n",
       "      <td>Allergic Rhinitis</td>\n",
       "      <td>SUBJECTIVE:,  This 23-year-old white female pr...</td>\n",
       "      <td>allergy / immunology, allergic rhinitis, aller...</td>\n",
       "    </tr>\n",
       "    <tr>\n",
       "      <th>1</th>\n",
       "      <td>Consult for laparoscopic gastric bypass.</td>\n",
       "      <td>Bariatrics</td>\n",
       "      <td>Laparoscopic Gastric Bypass Consult - 2</td>\n",
       "      <td>PAST MEDICAL HISTORY:, He has difficulty climb...</td>\n",
       "      <td>bariatrics, laparoscopic gastric bypass, weigh...</td>\n",
       "    </tr>\n",
       "    <tr>\n",
       "      <th>2</th>\n",
       "      <td>Consult for laparoscopic gastric bypass.</td>\n",
       "      <td>Bariatrics</td>\n",
       "      <td>Laparoscopic Gastric Bypass Consult - 1</td>\n",
       "      <td>HISTORY OF PRESENT ILLNESS: , I have seen ABC ...</td>\n",
       "      <td>bariatrics, laparoscopic gastric bypass, heart...</td>\n",
       "    </tr>\n",
       "    <tr>\n",
       "      <th>3</th>\n",
       "      <td>2-D M-Mode. Doppler.</td>\n",
       "      <td>Cardiovascular / Pulmonary</td>\n",
       "      <td>2-D Echocardiogram - 1</td>\n",
       "      <td>2-D M-MODE: , ,1.  Left atrial enlargement wit...</td>\n",
       "      <td>cardiovascular / pulmonary, 2-d m-mode, dopple...</td>\n",
       "    </tr>\n",
       "    <tr>\n",
       "      <th>4</th>\n",
       "      <td>2-D Echocardiogram</td>\n",
       "      <td>Cardiovascular / Pulmonary</td>\n",
       "      <td>2-D Echocardiogram - 2</td>\n",
       "      <td>1.  The left ventricular cavity size and wall ...</td>\n",
       "      <td>cardiovascular / pulmonary, 2-d, doppler, echo...</td>\n",
       "    </tr>\n",
       "    <tr>\n",
       "      <th>...</th>\n",
       "      <td>...</td>\n",
       "      <td>...</td>\n",
       "      <td>...</td>\n",
       "      <td>...</td>\n",
       "      <td>...</td>\n",
       "    </tr>\n",
       "    <tr>\n",
       "      <th>4994</th>\n",
       "      <td>Patient having severe sinusitis about two to ...</td>\n",
       "      <td>Allergy / Immunology</td>\n",
       "      <td>Chronic Sinusitis</td>\n",
       "      <td>HISTORY:,  I had the pleasure of meeting and e...</td>\n",
       "      <td>NaN</td>\n",
       "    </tr>\n",
       "    <tr>\n",
       "      <th>4995</th>\n",
       "      <td>This is a 14-month-old baby boy Caucasian who...</td>\n",
       "      <td>Allergy / Immunology</td>\n",
       "      <td>Kawasaki Disease - Discharge Summary</td>\n",
       "      <td>ADMITTING DIAGNOSIS: , Kawasaki disease.,DISCH...</td>\n",
       "      <td>allergy / immunology, mucous membranes, conjun...</td>\n",
       "    </tr>\n",
       "    <tr>\n",
       "      <th>4996</th>\n",
       "      <td>A female for a complete physical and follow u...</td>\n",
       "      <td>Allergy / Immunology</td>\n",
       "      <td>Followup on Asthma</td>\n",
       "      <td>SUBJECTIVE: , This is a 42-year-old white fema...</td>\n",
       "      <td>NaN</td>\n",
       "    </tr>\n",
       "    <tr>\n",
       "      <th>4997</th>\n",
       "      <td>Mother states he has been wheezing and coughing.</td>\n",
       "      <td>Allergy / Immunology</td>\n",
       "      <td>Asthma in a 5-year-old</td>\n",
       "      <td>CHIEF COMPLAINT: , This 5-year-old male presen...</td>\n",
       "      <td>NaN</td>\n",
       "    </tr>\n",
       "    <tr>\n",
       "      <th>4998</th>\n",
       "      <td>Acute allergic reaction, etiology uncertain, ...</td>\n",
       "      <td>Allergy / Immunology</td>\n",
       "      <td>Allergy Evaluation Consult</td>\n",
       "      <td>HISTORY: , A 34-year-old male presents today s...</td>\n",
       "      <td>NaN</td>\n",
       "    </tr>\n",
       "  </tbody>\n",
       "</table>\n",
       "<p>4966 rows × 5 columns</p>\n",
       "</div>"
      ],
      "text/plain": [
       "                                            description  \\\n",
       "0      A 23-year-old white female presents with comp...   \n",
       "1              Consult for laparoscopic gastric bypass.   \n",
       "2              Consult for laparoscopic gastric bypass.   \n",
       "3                                2-D M-Mode. Doppler.     \n",
       "4                                    2-D Echocardiogram   \n",
       "...                                                 ...   \n",
       "4994   Patient having severe sinusitis about two to ...   \n",
       "4995   This is a 14-month-old baby boy Caucasian who...   \n",
       "4996   A female for a complete physical and follow u...   \n",
       "4997   Mother states he has been wheezing and coughing.   \n",
       "4998   Acute allergic reaction, etiology uncertain, ...   \n",
       "\n",
       "                medical_specialty                                sample_name  \\\n",
       "0            Allergy / Immunology                         Allergic Rhinitis    \n",
       "1                      Bariatrics   Laparoscopic Gastric Bypass Consult - 2    \n",
       "2                      Bariatrics   Laparoscopic Gastric Bypass Consult - 1    \n",
       "3      Cardiovascular / Pulmonary                    2-D Echocardiogram - 1    \n",
       "4      Cardiovascular / Pulmonary                    2-D Echocardiogram - 2    \n",
       "...                           ...                                        ...   \n",
       "4994         Allergy / Immunology                         Chronic Sinusitis    \n",
       "4995         Allergy / Immunology      Kawasaki Disease - Discharge Summary    \n",
       "4996         Allergy / Immunology                        Followup on Asthma    \n",
       "4997         Allergy / Immunology                    Asthma in a 5-year-old    \n",
       "4998         Allergy / Immunology                Allergy Evaluation Consult    \n",
       "\n",
       "                                          transcription  \\\n",
       "0     SUBJECTIVE:,  This 23-year-old white female pr...   \n",
       "1     PAST MEDICAL HISTORY:, He has difficulty climb...   \n",
       "2     HISTORY OF PRESENT ILLNESS: , I have seen ABC ...   \n",
       "3     2-D M-MODE: , ,1.  Left atrial enlargement wit...   \n",
       "4     1.  The left ventricular cavity size and wall ...   \n",
       "...                                                 ...   \n",
       "4994  HISTORY:,  I had the pleasure of meeting and e...   \n",
       "4995  ADMITTING DIAGNOSIS: , Kawasaki disease.,DISCH...   \n",
       "4996  SUBJECTIVE: , This is a 42-year-old white fema...   \n",
       "4997  CHIEF COMPLAINT: , This 5-year-old male presen...   \n",
       "4998  HISTORY: , A 34-year-old male presents today s...   \n",
       "\n",
       "                                               keywords  \n",
       "0     allergy / immunology, allergic rhinitis, aller...  \n",
       "1     bariatrics, laparoscopic gastric bypass, weigh...  \n",
       "2     bariatrics, laparoscopic gastric bypass, heart...  \n",
       "3     cardiovascular / pulmonary, 2-d m-mode, dopple...  \n",
       "4     cardiovascular / pulmonary, 2-d, doppler, echo...  \n",
       "...                                                 ...  \n",
       "4994                                                NaN  \n",
       "4995  allergy / immunology, mucous membranes, conjun...  \n",
       "4996                                                NaN  \n",
       "4997                                                NaN  \n",
       "4998                                                NaN  \n",
       "\n",
       "[4966 rows x 5 columns]"
      ]
     },
     "execution_count": 5,
     "metadata": {},
     "output_type": "execute_result"
    }
   ],
   "source": [
    "df.dropna(subset=['transcription'], inplace=True)\n",
    "df"
   ]
  },
  {
   "cell_type": "code",
   "execution_count": 6,
   "id": "d22f3f68",
   "metadata": {
    "execution": {
     "iopub.execute_input": "2021-09-26T06:43:44.404602Z",
     "iopub.status.busy": "2021-09-26T06:43:44.403665Z",
     "iopub.status.idle": "2021-09-26T06:43:44.408264Z",
     "shell.execute_reply": "2021-09-26T06:43:44.407593Z",
     "shell.execute_reply.started": "2021-09-26T06:12:49.963660Z"
    },
    "id": "Y9FWuLY-HtTC",
    "outputId": "238f367f-ea88-4d91-e1a8-61c9a59dce15",
    "papermill": {
     "duration": 0.027248,
     "end_time": "2021-09-26T06:43:44.408456",
     "exception": false,
     "start_time": "2021-09-26T06:43:44.381208",
     "status": "completed"
    },
    "tags": []
   },
   "outputs": [
    {
     "data": {
      "text/plain": [
       "40"
      ]
     },
     "execution_count": 6,
     "metadata": {},
     "output_type": "execute_result"
    }
   ],
   "source": [
    "len(df['medical_specialty'].value_counts())"
   ]
  },
  {
   "cell_type": "code",
   "execution_count": 7,
   "id": "fa987913",
   "metadata": {
    "execution": {
     "iopub.execute_input": "2021-09-26T06:43:44.445319Z",
     "iopub.status.busy": "2021-09-26T06:43:44.444533Z",
     "iopub.status.idle": "2021-09-26T06:43:45.347642Z",
     "shell.execute_reply": "2021-09-26T06:43:45.346976Z",
     "shell.execute_reply.started": "2021-09-26T06:27:23.321259Z"
    },
    "id": "orL1Oug5JKxG",
    "papermill": {
     "duration": 0.924401,
     "end_time": "2021-09-26T06:43:45.347817",
     "exception": false,
     "start_time": "2021-09-26T06:43:44.423416",
     "status": "completed"
    },
    "tags": []
   },
   "outputs": [],
   "source": [
    "from sklearn.model_selection import train_test_split\n",
    "train_texts, val_texts, train_labels, val_labels = train_test_split(df.iloc[:,3].to_list(), df.iloc[:,1].to_list(), test_size=.2, random_state=42)"
   ]
  },
  {
   "cell_type": "code",
   "execution_count": 8,
   "id": "084b25b2",
   "metadata": {
    "execution": {
     "iopub.execute_input": "2021-09-26T06:43:45.382921Z",
     "iopub.status.busy": "2021-09-26T06:43:45.382292Z",
     "iopub.status.idle": "2021-09-26T06:43:45.384941Z",
     "shell.execute_reply": "2021-09-26T06:43:45.385401Z",
     "shell.execute_reply.started": "2021-09-26T05:54:38.083597Z"
    },
    "id": "N9cp_LkZHtYS",
    "outputId": "5b6fc28e-67b1-43ed-8bed-9f6a89a142a8",
    "papermill": {
     "duration": 0.022048,
     "end_time": "2021-09-26T06:43:45.385626",
     "exception": false,
     "start_time": "2021-09-26T06:43:45.363578",
     "status": "completed"
    },
    "tags": []
   },
   "outputs": [],
   "source": [
    "#X_val_tf[1]"
   ]
  },
  {
   "cell_type": "code",
   "execution_count": 9,
   "id": "29b46065",
   "metadata": {
    "execution": {
     "iopub.execute_input": "2021-09-26T06:43:45.420317Z",
     "iopub.status.busy": "2021-09-26T06:43:45.419353Z",
     "iopub.status.idle": "2021-09-26T06:43:45.617852Z",
     "shell.execute_reply": "2021-09-26T06:43:45.617281Z",
     "shell.execute_reply.started": "2021-09-26T06:34:45.220652Z"
    },
    "papermill": {
     "duration": 0.217149,
     "end_time": "2021-09-26T06:43:45.618045",
     "exception": false,
     "start_time": "2021-09-26T06:43:45.400896",
     "status": "completed"
    },
    "tags": []
   },
   "outputs": [],
   "source": [
    "from sklearn.pipeline import Pipeline\n",
    "from sklearn.decomposition import PCA, TruncatedSVD\n",
    "from sklearn.ensemble import RandomForestClassifier\n",
    "from sklearn.svm import SVC\n",
    "from sklearn.feature_extraction.text import TfidfVectorizer\n",
    "from sklearn.metrics import accuracy_score, precision_score, recall_score\n",
    "\n",
    "text_clf = Pipeline([\n",
    "     ('tfidf', TfidfVectorizer(sublinear_tf=True, min_df=50, norm='l2', encoding='latin-1', ngram_range=(1, 10), stop_words='english')),\n",
    "     ('pca', TruncatedSVD(n_components=10)),\n",
    "     ('clf', SVC())])"
   ]
  },
  {
   "cell_type": "code",
   "execution_count": 10,
   "id": "6da436f6",
   "metadata": {
    "execution": {
     "iopub.execute_input": "2021-09-26T06:43:45.653489Z",
     "iopub.status.busy": "2021-09-26T06:43:45.652830Z",
     "iopub.status.idle": "2021-09-26T06:44:08.919683Z",
     "shell.execute_reply": "2021-09-26T06:44:08.920147Z",
     "shell.execute_reply.started": "2021-09-26T06:34:47.675464Z"
    },
    "papermill": {
     "duration": 23.286988,
     "end_time": "2021-09-26T06:44:08.920351",
     "exception": false,
     "start_time": "2021-09-26T06:43:45.633363",
     "status": "completed"
    },
    "tags": []
   },
   "outputs": [
    {
     "data": {
      "text/plain": [
       "Pipeline(steps=[('tfidf',\n",
       "                 TfidfVectorizer(encoding='latin-1', min_df=50,\n",
       "                                 ngram_range=(1, 10), stop_words='english',\n",
       "                                 sublinear_tf=True)),\n",
       "                ('pca', TruncatedSVD(n_components=10)), ('clf', SVC())])"
      ]
     },
     "execution_count": 10,
     "metadata": {},
     "output_type": "execute_result"
    }
   ],
   "source": [
    "text_clf.fit(train_texts,train_labels)"
   ]
  },
  {
   "cell_type": "code",
   "execution_count": 11,
   "id": "4defb759",
   "metadata": {
    "execution": {
     "iopub.execute_input": "2021-09-26T06:44:08.966319Z",
     "iopub.status.busy": "2021-09-26T06:44:08.965651Z",
     "iopub.status.idle": "2021-09-26T06:44:12.348649Z",
     "shell.execute_reply": "2021-09-26T06:44:12.348005Z",
     "shell.execute_reply.started": "2021-09-26T06:35:12.501692Z"
    },
    "papermill": {
     "duration": 3.412885,
     "end_time": "2021-09-26T06:44:12.348820",
     "exception": false,
     "start_time": "2021-09-26T06:44:08.935935",
     "status": "completed"
    },
    "tags": []
   },
   "outputs": [
    {
     "data": {
      "text/plain": [
       "0.40543259557344064"
      ]
     },
     "execution_count": 11,
     "metadata": {},
     "output_type": "execute_result"
    }
   ],
   "source": [
    "y_pred = text_clf.predict(val_texts)\n",
    "accuracy_score(val_labels, y_pred)"
   ]
  },
  {
   "cell_type": "code",
   "execution_count": 12,
   "id": "76dd5cc0",
   "metadata": {
    "execution": {
     "iopub.execute_input": "2021-09-26T06:44:12.393693Z",
     "iopub.status.busy": "2021-09-26T06:44:12.392716Z",
     "iopub.status.idle": "2021-09-26T06:44:12.411593Z",
     "shell.execute_reply": "2021-09-26T06:44:12.411022Z",
     "shell.execute_reply.started": "2021-09-26T06:35:29.561308Z"
    },
    "id": "32FpsCwAHtdn",
    "outputId": "54db540c-266c-4665-8ae8-f2ffd56be6bf",
    "papermill": {
     "duration": 0.040454,
     "end_time": "2021-09-26T06:44:12.411770",
     "exception": false,
     "start_time": "2021-09-26T06:44:12.371316",
     "status": "completed"
    },
    "tags": []
   },
   "outputs": [
    {
     "name": "stderr",
     "output_type": "stream",
     "text": [
      "/opt/conda/lib/python3.7/site-packages/sklearn/metrics/_classification.py:1221: UndefinedMetricWarning: Precision is ill-defined and being set to 0.0 in labels with no predicted samples. Use `zero_division` parameter to control this behavior.\n",
      "  _warn_prf(average, modifier, msg_start, len(result))\n"
     ]
    },
    {
     "data": {
      "text/plain": [
       "0.2805734950898512"
      ]
     },
     "execution_count": 12,
     "metadata": {},
     "output_type": "execute_result"
    }
   ],
   "source": [
    "precision_score(val_labels, y_pred, average='weighted')"
   ]
  },
  {
   "cell_type": "code",
   "execution_count": 13,
   "id": "58f3903a",
   "metadata": {
    "execution": {
     "iopub.execute_input": "2021-09-26T06:44:12.449847Z",
     "iopub.status.busy": "2021-09-26T06:44:12.449168Z",
     "iopub.status.idle": "2021-09-26T06:44:12.459853Z",
     "shell.execute_reply": "2021-09-26T06:44:12.459333Z",
     "shell.execute_reply.started": "2021-09-26T06:35:32.470214Z"
    },
    "id": "u0YQX3H-Htgc",
    "outputId": "12284417-b1f3-41f6-edc9-55fc2ece015a",
    "papermill": {
     "duration": 0.032073,
     "end_time": "2021-09-26T06:44:12.460003",
     "exception": false,
     "start_time": "2021-09-26T06:44:12.427930",
     "status": "completed"
    },
    "tags": []
   },
   "outputs": [
    {
     "data": {
      "text/plain": [
       "0.40543259557344064"
      ]
     },
     "execution_count": 13,
     "metadata": {},
     "output_type": "execute_result"
    }
   ],
   "source": [
    "recall_score(val_labels, y_pred, average='weighted')"
   ]
  },
  {
   "cell_type": "code",
   "execution_count": 14,
   "id": "9d8fb835",
   "metadata": {
    "execution": {
     "iopub.execute_input": "2021-09-26T06:44:14.877941Z",
     "iopub.status.busy": "2021-09-26T06:44:14.877216Z",
     "iopub.status.idle": "2021-09-26T06:44:15.354546Z",
     "shell.execute_reply": "2021-09-26T06:44:15.353931Z",
     "shell.execute_reply.started": "2021-09-26T06:30:52.076679Z"
    },
    "id": "D6bp6zalHti1",
    "papermill": {
     "duration": 2.878,
     "end_time": "2021-09-26T06:44:15.354729",
     "exception": false,
     "start_time": "2021-09-26T06:44:12.476729",
     "status": "completed"
    },
    "tags": []
   },
   "outputs": [],
   "source": [
    "import pickle\n",
    "filename = 'svc.pkl'\n",
    "pickle.dump(text_clf, open(filename, 'wb'))"
   ]
  },
  {
   "cell_type": "code",
   "execution_count": null,
   "id": "c5f3e153",
   "metadata": {
    "papermill": {
     "duration": 0.016651,
     "end_time": "2021-09-26T06:44:15.389067",
     "exception": false,
     "start_time": "2021-09-26T06:44:15.372416",
     "status": "completed"
    },
    "tags": []
   },
   "outputs": [],
   "source": []
  }
 ],
 "metadata": {
  "kernelspec": {
   "display_name": "Python 3",
   "language": "python",
   "name": "python3"
  },
  "language_info": {
   "codemirror_mode": {
    "name": "ipython",
    "version": 3
   },
   "file_extension": ".py",
   "mimetype": "text/x-python",
   "name": "python",
   "nbconvert_exporter": "python",
   "pygments_lexer": "ipython3",
   "version": "3.7.10"
  },
  "papermill": {
   "default_parameters": {},
   "duration": 41.723146,
   "end_time": "2021-09-26T06:44:17.322375",
   "environment_variables": {},
   "exception": null,
   "input_path": "__notebook__.ipynb",
   "output_path": "__notebook__.ipynb",
   "parameters": {},
   "start_time": "2021-09-26T06:43:35.599229",
   "version": "2.3.3"
  }
 },
 "nbformat": 4,
 "nbformat_minor": 5
}
